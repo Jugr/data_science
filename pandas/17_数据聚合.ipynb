{
 "cells": [
  {
   "cell_type": "code",
   "execution_count": 1,
   "metadata": {},
   "outputs": [],
   "source": [
    "import pandas as pd\n",
    "import numpy as np\n",
    "from pandas import Series , DataFrame"
   ]
  },
  {
   "cell_type": "code",
   "execution_count": 2,
   "metadata": {},
   "outputs": [],
   "source": [
    "df = pd.read_csv('city_weather.csv')"
   ]
  },
  {
   "cell_type": "code",
   "execution_count": 4,
   "metadata": {},
   "outputs": [
    {
     "data": {
      "text/plain": [
       "[('BJ',         date city  temperature  wind\n",
       "  0   2016/1/3   BJ            8     5\n",
       "  1  2016/1/17   BJ           12     2\n",
       "  2  2016/1/31   BJ           19     6\n",
       "  3  2016/2/14   BJ           -3     1\n",
       "  4  2016/2/28   BJ            5     7\n",
       "  5  2016/3/13   BJ           -4     8),\n",
       " ('GZ',          date city  temperature  wind\n",
       "  14  2016/7/17   GZ           -4    10\n",
       "  15  2016/7/31   GZ           -7    10\n",
       "  16  2016/8/14   GZ          -10    11\n",
       "  17  2016/8/28   GZ          -13    11\n",
       "  18  2016/9/11   GZ          -16    12),\n",
       " ('SH',          date city  temperature  wind\n",
       "  6   2016/3/27   SH           -4     5\n",
       "  7   2016/4/10   SH           -7     7\n",
       "  8   2016/4/24   SH          -10     7\n",
       "  9    2016/5/8   SH            5     8\n",
       "  10  2016/5/22   SH           16     8\n",
       "  11   2016/6/5   SH            2     9\n",
       "  12  2016/6/19   SH            0     9\n",
       "  13   2016/7/3   SH           -2     9)]"
      ]
     },
     "execution_count": 4,
     "metadata": {},
     "output_type": "execute_result"
    }
   ],
   "source": [
    "g = df.groupby('city')\n",
    "list(g)"
   ]
  },
  {
   "cell_type": "code",
   "execution_count": 6,
   "metadata": {},
   "outputs": [],
   "source": [
    "#聚合"
   ]
  },
  {
   "cell_type": "code",
   "execution_count": 13,
   "metadata": {},
   "outputs": [],
   "source": [
    "def foo(attr):\n",
    "    return attr.max()-attr.min()"
   ]
  },
  {
   "cell_type": "code",
   "execution_count": 14,
   "metadata": {},
   "outputs": [
    {
     "data": {
      "text/html": [
       "<div>\n",
       "<style scoped>\n",
       "    .dataframe tbody tr th:only-of-type {\n",
       "        vertical-align: middle;\n",
       "    }\n",
       "\n",
       "    .dataframe tbody tr th {\n",
       "        vertical-align: top;\n",
       "    }\n",
       "\n",
       "    .dataframe thead th {\n",
       "        text-align: right;\n",
       "    }\n",
       "</style>\n",
       "<table border=\"1\" class=\"dataframe\">\n",
       "  <thead>\n",
       "    <tr style=\"text-align: right;\">\n",
       "      <th></th>\n",
       "      <th>temperature</th>\n",
       "      <th>wind</th>\n",
       "    </tr>\n",
       "    <tr>\n",
       "      <th>city</th>\n",
       "      <th></th>\n",
       "      <th></th>\n",
       "    </tr>\n",
       "  </thead>\n",
       "  <tbody>\n",
       "    <tr>\n",
       "      <th>BJ</th>\n",
       "      <td>23</td>\n",
       "      <td>7</td>\n",
       "    </tr>\n",
       "    <tr>\n",
       "      <th>GZ</th>\n",
       "      <td>12</td>\n",
       "      <td>2</td>\n",
       "    </tr>\n",
       "    <tr>\n",
       "      <th>SH</th>\n",
       "      <td>26</td>\n",
       "      <td>4</td>\n",
       "    </tr>\n",
       "  </tbody>\n",
       "</table>\n",
       "</div>"
      ],
      "text/plain": [
       "      temperature  wind\n",
       "city                   \n",
       "BJ             23     7\n",
       "GZ             12     2\n",
       "SH             26     4"
      ]
     },
     "execution_count": 14,
     "metadata": {},
     "output_type": "execute_result"
    }
   ],
   "source": [
    "g.agg(foo)"
   ]
  },
  {
   "cell_type": "code",
   "execution_count": 15,
   "metadata": {},
   "outputs": [
    {
     "data": {
      "text/plain": [
       "{('BJ', 1): Int64Index([3], dtype='int64'),\n",
       " ('BJ', 2): Int64Index([1], dtype='int64'),\n",
       " ('BJ', 5): Int64Index([0], dtype='int64'),\n",
       " ('BJ', 6): Int64Index([2], dtype='int64'),\n",
       " ('BJ', 7): Int64Index([4], dtype='int64'),\n",
       " ('BJ', 8): Int64Index([5], dtype='int64'),\n",
       " ('GZ', 10): Int64Index([14, 15], dtype='int64'),\n",
       " ('GZ', 11): Int64Index([16, 17], dtype='int64'),\n",
       " ('GZ', 12): Int64Index([18], dtype='int64'),\n",
       " ('SH', 5): Int64Index([6], dtype='int64'),\n",
       " ('SH', 7): Int64Index([7, 8], dtype='int64'),\n",
       " ('SH', 8): Int64Index([9, 10], dtype='int64'),\n",
       " ('SH', 9): Int64Index([11, 12, 13], dtype='int64')}"
      ]
     },
     "execution_count": 15,
     "metadata": {},
     "output_type": "execute_result"
    }
   ],
   "source": [
    "#多个column进行group\n",
    "g_new  =df.groupby(['city','wind'])\n",
    "g_new.groups"
   ]
  },
  {
   "cell_type": "code",
   "execution_count": 17,
   "metadata": {},
   "outputs": [
    {
     "data": {
      "text/plain": [
       "{'BJ': Int64Index([0, 1, 2, 3, 4, 5], dtype='int64'),\n",
       " 'GZ': Int64Index([14, 15, 16, 17, 18], dtype='int64'),\n",
       " 'SH': Int64Index([6, 7, 8, 9, 10, 11, 12, 13], dtype='int64')}"
      ]
     },
     "execution_count": 17,
     "metadata": {},
     "output_type": "execute_result"
    }
   ],
   "source": [
    "g.groups"
   ]
  },
  {
   "cell_type": "code",
   "execution_count": 19,
   "metadata": {},
   "outputs": [
    {
     "data": {
      "text/html": [
       "<div>\n",
       "<style scoped>\n",
       "    .dataframe tbody tr th:only-of-type {\n",
       "        vertical-align: middle;\n",
       "    }\n",
       "\n",
       "    .dataframe tbody tr th {\n",
       "        vertical-align: top;\n",
       "    }\n",
       "\n",
       "    .dataframe thead th {\n",
       "        text-align: right;\n",
       "    }\n",
       "</style>\n",
       "<table border=\"1\" class=\"dataframe\">\n",
       "  <thead>\n",
       "    <tr style=\"text-align: right;\">\n",
       "      <th></th>\n",
       "      <th>date</th>\n",
       "      <th>city</th>\n",
       "      <th>temperature</th>\n",
       "      <th>wind</th>\n",
       "    </tr>\n",
       "  </thead>\n",
       "  <tbody>\n",
       "    <tr>\n",
       "      <th>0</th>\n",
       "      <td>2016/1/3</td>\n",
       "      <td>BJ</td>\n",
       "      <td>8</td>\n",
       "      <td>5</td>\n",
       "    </tr>\n",
       "    <tr>\n",
       "      <th>1</th>\n",
       "      <td>2016/1/17</td>\n",
       "      <td>BJ</td>\n",
       "      <td>12</td>\n",
       "      <td>2</td>\n",
       "    </tr>\n",
       "    <tr>\n",
       "      <th>2</th>\n",
       "      <td>2016/1/31</td>\n",
       "      <td>BJ</td>\n",
       "      <td>19</td>\n",
       "      <td>6</td>\n",
       "    </tr>\n",
       "    <tr>\n",
       "      <th>3</th>\n",
       "      <td>2016/2/14</td>\n",
       "      <td>BJ</td>\n",
       "      <td>-3</td>\n",
       "      <td>1</td>\n",
       "    </tr>\n",
       "    <tr>\n",
       "      <th>4</th>\n",
       "      <td>2016/2/28</td>\n",
       "      <td>BJ</td>\n",
       "      <td>5</td>\n",
       "      <td>7</td>\n",
       "    </tr>\n",
       "    <tr>\n",
       "      <th>5</th>\n",
       "      <td>2016/3/13</td>\n",
       "      <td>BJ</td>\n",
       "      <td>-4</td>\n",
       "      <td>8</td>\n",
       "    </tr>\n",
       "  </tbody>\n",
       "</table>\n",
       "</div>"
      ],
      "text/plain": [
       "        date city  temperature  wind\n",
       "0   2016/1/3   BJ            8     5\n",
       "1  2016/1/17   BJ           12     2\n",
       "2  2016/1/31   BJ           19     6\n",
       "3  2016/2/14   BJ           -3     1\n",
       "4  2016/2/28   BJ            5     7\n",
       "5  2016/3/13   BJ           -4     8"
      ]
     },
     "execution_count": 19,
     "metadata": {},
     "output_type": "execute_result"
    }
   ],
   "source": [
    "g.get_group('BJ')"
   ]
  },
  {
   "cell_type": "code",
   "execution_count": 20,
   "metadata": {},
   "outputs": [
    {
     "data": {
      "text/html": [
       "<div>\n",
       "<style scoped>\n",
       "    .dataframe tbody tr th:only-of-type {\n",
       "        vertical-align: middle;\n",
       "    }\n",
       "\n",
       "    .dataframe tbody tr th {\n",
       "        vertical-align: top;\n",
       "    }\n",
       "\n",
       "    .dataframe thead th {\n",
       "        text-align: right;\n",
       "    }\n",
       "</style>\n",
       "<table border=\"1\" class=\"dataframe\">\n",
       "  <thead>\n",
       "    <tr style=\"text-align: right;\">\n",
       "      <th></th>\n",
       "      <th>date</th>\n",
       "      <th>city</th>\n",
       "      <th>temperature</th>\n",
       "      <th>wind</th>\n",
       "    </tr>\n",
       "  </thead>\n",
       "  <tbody>\n",
       "    <tr>\n",
       "      <th>0</th>\n",
       "      <td>2016/1/3</td>\n",
       "      <td>BJ</td>\n",
       "      <td>8</td>\n",
       "      <td>5</td>\n",
       "    </tr>\n",
       "  </tbody>\n",
       "</table>\n",
       "</div>"
      ],
      "text/plain": [
       "       date city  temperature  wind\n",
       "0  2016/1/3   BJ            8     5"
      ]
     },
     "execution_count": 20,
     "metadata": {},
     "output_type": "execute_result"
    }
   ],
   "source": [
    "g_new.get_group(('BJ',5))"
   ]
  },
  {
   "cell_type": "code",
   "execution_count": 23,
   "metadata": {},
   "outputs": [
    {
     "name": "stdout",
     "output_type": "stream",
     "text": [
      "BJ 1\n",
      "-------------\n",
      "        date city  temperature  wind\n",
      "3  2016/2/14   BJ           -3     1\n",
      "^^^^^^^^^^^^^^^^^^^\n",
      "BJ 2\n",
      "-------------\n",
      "        date city  temperature  wind\n",
      "1  2016/1/17   BJ           12     2\n",
      "^^^^^^^^^^^^^^^^^^^\n",
      "BJ 5\n",
      "-------------\n",
      "       date city  temperature  wind\n",
      "0  2016/1/3   BJ            8     5\n",
      "^^^^^^^^^^^^^^^^^^^\n",
      "BJ 6\n",
      "-------------\n",
      "        date city  temperature  wind\n",
      "2  2016/1/31   BJ           19     6\n",
      "^^^^^^^^^^^^^^^^^^^\n",
      "BJ 7\n",
      "-------------\n",
      "        date city  temperature  wind\n",
      "4  2016/2/28   BJ            5     7\n",
      "^^^^^^^^^^^^^^^^^^^\n",
      "BJ 8\n",
      "-------------\n",
      "        date city  temperature  wind\n",
      "5  2016/3/13   BJ           -4     8\n",
      "^^^^^^^^^^^^^^^^^^^\n",
      "GZ 10\n",
      "-------------\n",
      "         date city  temperature  wind\n",
      "14  2016/7/17   GZ           -4    10\n",
      "15  2016/7/31   GZ           -7    10\n",
      "^^^^^^^^^^^^^^^^^^^\n",
      "GZ 11\n",
      "-------------\n",
      "         date city  temperature  wind\n",
      "16  2016/8/14   GZ          -10    11\n",
      "17  2016/8/28   GZ          -13    11\n",
      "^^^^^^^^^^^^^^^^^^^\n",
      "GZ 12\n",
      "-------------\n",
      "         date city  temperature  wind\n",
      "18  2016/9/11   GZ          -16    12\n",
      "^^^^^^^^^^^^^^^^^^^\n",
      "SH 5\n",
      "-------------\n",
      "        date city  temperature  wind\n",
      "6  2016/3/27   SH           -4     5\n",
      "^^^^^^^^^^^^^^^^^^^\n",
      "SH 7\n",
      "-------------\n",
      "        date city  temperature  wind\n",
      "7  2016/4/10   SH           -7     7\n",
      "8  2016/4/24   SH          -10     7\n",
      "^^^^^^^^^^^^^^^^^^^\n",
      "SH 8\n",
      "-------------\n",
      "         date city  temperature  wind\n",
      "9    2016/5/8   SH            5     8\n",
      "10  2016/5/22   SH           16     8\n",
      "^^^^^^^^^^^^^^^^^^^\n",
      "SH 9\n",
      "-------------\n",
      "         date city  temperature  wind\n",
      "11   2016/6/5   SH            2     9\n",
      "12  2016/6/19   SH            0     9\n",
      "13   2016/7/3   SH           -2     9\n",
      "^^^^^^^^^^^^^^^^^^^\n"
     ]
    }
   ],
   "source": [
    "for (city_name,wind),group in g_new:\n",
    "    print(city_name,wind)\n",
    "    print(\"-------------\")\n",
    "    print(group)\n",
    "    print(\"^^^^^^^^^^^^^^^^^^^\")"
   ]
  },
  {
   "cell_type": "code",
   "execution_count": null,
   "metadata": {},
   "outputs": [],
   "source": []
  }
 ],
 "metadata": {
  "kernelspec": {
   "display_name": "Python 3",
   "language": "python",
   "name": "python3"
  },
  "language_info": {
   "codemirror_mode": {
    "name": "ipython",
    "version": 3
   },
   "file_extension": ".py",
   "mimetype": "text/x-python",
   "name": "python",
   "nbconvert_exporter": "python",
   "pygments_lexer": "ipython3",
   "version": "3.7.1"
  }
 },
 "nbformat": 4,
 "nbformat_minor": 2
}
