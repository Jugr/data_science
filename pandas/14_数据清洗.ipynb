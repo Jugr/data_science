{
 "cells": [
  {
   "cell_type": "code",
   "execution_count": 1,
   "metadata": {},
   "outputs": [],
   "source": [
    "import pandas as pd\n",
    "import numpy as np\n",
    "from pandas import Series,DataFrame"
   ]
  },
  {
   "cell_type": "code",
   "execution_count": 2,
   "metadata": {},
   "outputs": [
    {
     "data": {
      "text/html": [
       "<div>\n",
       "<style scoped>\n",
       "    .dataframe tbody tr th:only-of-type {\n",
       "        vertical-align: middle;\n",
       "    }\n",
       "\n",
       "    .dataframe tbody tr th {\n",
       "        vertical-align: top;\n",
       "    }\n",
       "\n",
       "    .dataframe thead th {\n",
       "        text-align: right;\n",
       "    }\n",
       "</style>\n",
       "<table border=\"1\" class=\"dataframe\">\n",
       "  <thead>\n",
       "    <tr style=\"text-align: right;\">\n",
       "      <th></th>\n",
       "      <th>Unnamed: 0</th>\n",
       "      <th>Water_(g)</th>\n",
       "      <th>Lipid_Tot_(g)</th>\n",
       "      <th>Carbohydrt_(g)</th>\n",
       "      <th>A</th>\n",
       "      <th>0</th>\n",
       "      <th>1</th>\n",
       "    </tr>\n",
       "  </thead>\n",
       "  <tbody>\n",
       "    <tr>\n",
       "      <th>0</th>\n",
       "      <td>0</td>\n",
       "      <td>15.87</td>\n",
       "      <td>81.11</td>\n",
       "      <td>0.06</td>\n",
       "      <td>A</td>\n",
       "      <td>BUTTER</td>\n",
       "      <td>['WITH', 'SALT']</td>\n",
       "    </tr>\n",
       "    <tr>\n",
       "      <th>1</th>\n",
       "      <td>1</td>\n",
       "      <td>15.87</td>\n",
       "      <td>81.11</td>\n",
       "      <td>0.06</td>\n",
       "      <td>A</td>\n",
       "      <td>BUTTER</td>\n",
       "      <td>['WHIPPED', 'WITH', 'SALT']</td>\n",
       "    </tr>\n",
       "    <tr>\n",
       "      <th>2</th>\n",
       "      <td>2</td>\n",
       "      <td>0.24</td>\n",
       "      <td>99.48</td>\n",
       "      <td>0.00</td>\n",
       "      <td>A</td>\n",
       "      <td>BUTTER</td>\n",
       "      <td>['OIL', 'ANHYDROUS']</td>\n",
       "    </tr>\n",
       "    <tr>\n",
       "      <th>3</th>\n",
       "      <td>3</td>\n",
       "      <td>42.41</td>\n",
       "      <td>28.74</td>\n",
       "      <td>2.34</td>\n",
       "      <td>A</td>\n",
       "      <td>CHEESE</td>\n",
       "      <td>['BLUE']</td>\n",
       "    </tr>\n",
       "    <tr>\n",
       "      <th>4</th>\n",
       "      <td>4</td>\n",
       "      <td>41.11</td>\n",
       "      <td>29.68</td>\n",
       "      <td>2.79</td>\n",
       "      <td>A</td>\n",
       "      <td>CHEESE</td>\n",
       "      <td>['BRICK']</td>\n",
       "    </tr>\n",
       "  </tbody>\n",
       "</table>\n",
       "</div>"
      ],
      "text/plain": [
       "   Unnamed: 0  Water_(g)  Lipid_Tot_(g)  Carbohydrt_(g)  A       0  \\\n",
       "0           0      15.87          81.11            0.06  A  BUTTER   \n",
       "1           1      15.87          81.11            0.06  A  BUTTER   \n",
       "2           2       0.24          99.48            0.00  A  BUTTER   \n",
       "3           3      42.41          28.74            2.34  A  CHEESE   \n",
       "4           4      41.11          29.68            2.79  A  CHEESE   \n",
       "\n",
       "                             1  \n",
       "0             ['WITH', 'SALT']  \n",
       "1  ['WHIPPED', 'WITH', 'SALT']  \n",
       "2         ['OIL', 'ANHYDROUS']  \n",
       "3                     ['BLUE']  \n",
       "4                    ['BRICK']  "
      ]
     },
     "execution_count": 2,
     "metadata": {},
     "output_type": "execute_result"
    }
   ],
   "source": [
    "df = pd.read_csv('food_new.csv')\n",
    "df.head()"
   ]
  },
  {
   "cell_type": "code",
   "execution_count": 3,
   "metadata": {},
   "outputs": [],
   "source": [
    "del df['Unnamed: 0']"
   ]
  },
  {
   "cell_type": "code",
   "execution_count": 4,
   "metadata": {},
   "outputs": [
    {
     "data": {
      "text/html": [
       "<div>\n",
       "<style scoped>\n",
       "    .dataframe tbody tr th:only-of-type {\n",
       "        vertical-align: middle;\n",
       "    }\n",
       "\n",
       "    .dataframe tbody tr th {\n",
       "        vertical-align: top;\n",
       "    }\n",
       "\n",
       "    .dataframe thead th {\n",
       "        text-align: right;\n",
       "    }\n",
       "</style>\n",
       "<table border=\"1\" class=\"dataframe\">\n",
       "  <thead>\n",
       "    <tr style=\"text-align: right;\">\n",
       "      <th></th>\n",
       "      <th>Water_(g)</th>\n",
       "      <th>Lipid_Tot_(g)</th>\n",
       "      <th>Carbohydrt_(g)</th>\n",
       "      <th>A</th>\n",
       "      <th>0</th>\n",
       "      <th>1</th>\n",
       "    </tr>\n",
       "  </thead>\n",
       "  <tbody>\n",
       "    <tr>\n",
       "      <th>0</th>\n",
       "      <td>15.87</td>\n",
       "      <td>81.11</td>\n",
       "      <td>0.06</td>\n",
       "      <td>A</td>\n",
       "      <td>BUTTER</td>\n",
       "      <td>['WITH', 'SALT']</td>\n",
       "    </tr>\n",
       "    <tr>\n",
       "      <th>1</th>\n",
       "      <td>15.87</td>\n",
       "      <td>81.11</td>\n",
       "      <td>0.06</td>\n",
       "      <td>A</td>\n",
       "      <td>BUTTER</td>\n",
       "      <td>['WHIPPED', 'WITH', 'SALT']</td>\n",
       "    </tr>\n",
       "    <tr>\n",
       "      <th>2</th>\n",
       "      <td>0.24</td>\n",
       "      <td>99.48</td>\n",
       "      <td>0.00</td>\n",
       "      <td>A</td>\n",
       "      <td>BUTTER</td>\n",
       "      <td>['OIL', 'ANHYDROUS']</td>\n",
       "    </tr>\n",
       "    <tr>\n",
       "      <th>3</th>\n",
       "      <td>42.41</td>\n",
       "      <td>28.74</td>\n",
       "      <td>2.34</td>\n",
       "      <td>A</td>\n",
       "      <td>CHEESE</td>\n",
       "      <td>['BLUE']</td>\n",
       "    </tr>\n",
       "    <tr>\n",
       "      <th>4</th>\n",
       "      <td>41.11</td>\n",
       "      <td>29.68</td>\n",
       "      <td>2.79</td>\n",
       "      <td>A</td>\n",
       "      <td>CHEESE</td>\n",
       "      <td>['BRICK']</td>\n",
       "    </tr>\n",
       "  </tbody>\n",
       "</table>\n",
       "</div>"
      ],
      "text/plain": [
       "   Water_(g)  Lipid_Tot_(g)  Carbohydrt_(g)  A       0  \\\n",
       "0      15.87          81.11            0.06  A  BUTTER   \n",
       "1      15.87          81.11            0.06  A  BUTTER   \n",
       "2       0.24          99.48            0.00  A  BUTTER   \n",
       "3      42.41          28.74            2.34  A  CHEESE   \n",
       "4      41.11          29.68            2.79  A  CHEESE   \n",
       "\n",
       "                             1  \n",
       "0             ['WITH', 'SALT']  \n",
       "1  ['WHIPPED', 'WITH', 'SALT']  \n",
       "2         ['OIL', 'ANHYDROUS']  \n",
       "3                     ['BLUE']  \n",
       "4                    ['BRICK']  "
      ]
     },
     "execution_count": 4,
     "metadata": {},
     "output_type": "execute_result"
    }
   ],
   "source": [
    "df.head()"
   ]
  },
  {
   "cell_type": "code",
   "execution_count": 5,
   "metadata": {},
   "outputs": [
    {
     "data": {
      "text/html": [
       "<div>\n",
       "<style scoped>\n",
       "    .dataframe tbody tr th:only-of-type {\n",
       "        vertical-align: middle;\n",
       "    }\n",
       "\n",
       "    .dataframe tbody tr th {\n",
       "        vertical-align: top;\n",
       "    }\n",
       "\n",
       "    .dataframe thead th {\n",
       "        text-align: right;\n",
       "    }\n",
       "</style>\n",
       "<table border=\"1\" class=\"dataframe\">\n",
       "  <thead>\n",
       "    <tr style=\"text-align: right;\">\n",
       "      <th></th>\n",
       "      <th>Water_(g)</th>\n",
       "      <th>Lipid_Tot_(g)</th>\n",
       "      <th>Carbohydrt_(g)</th>\n",
       "    </tr>\n",
       "  </thead>\n",
       "  <tbody>\n",
       "    <tr>\n",
       "      <th>count</th>\n",
       "      <td>8612.000000</td>\n",
       "      <td>8618.000000</td>\n",
       "      <td>8618.000000</td>\n",
       "    </tr>\n",
       "    <tr>\n",
       "      <th>mean</th>\n",
       "      <td>54.163710</td>\n",
       "      <td>10.647024</td>\n",
       "      <td>21.819062</td>\n",
       "    </tr>\n",
       "    <tr>\n",
       "      <th>std</th>\n",
       "      <td>30.648283</td>\n",
       "      <td>15.866353</td>\n",
       "      <td>27.239000</td>\n",
       "    </tr>\n",
       "    <tr>\n",
       "      <th>min</th>\n",
       "      <td>0.000000</td>\n",
       "      <td>0.000000</td>\n",
       "      <td>0.000000</td>\n",
       "    </tr>\n",
       "    <tr>\n",
       "      <th>25%</th>\n",
       "      <td>30.087500</td>\n",
       "      <td>0.992500</td>\n",
       "      <td>0.040000</td>\n",
       "    </tr>\n",
       "    <tr>\n",
       "      <th>50%</th>\n",
       "      <td>63.265000</td>\n",
       "      <td>5.235000</td>\n",
       "      <td>8.945000</td>\n",
       "    </tr>\n",
       "    <tr>\n",
       "      <th>75%</th>\n",
       "      <td>77.610000</td>\n",
       "      <td>13.900000</td>\n",
       "      <td>32.900000</td>\n",
       "    </tr>\n",
       "    <tr>\n",
       "      <th>max</th>\n",
       "      <td>100.000000</td>\n",
       "      <td>100.000000</td>\n",
       "      <td>100.000000</td>\n",
       "    </tr>\n",
       "  </tbody>\n",
       "</table>\n",
       "</div>"
      ],
      "text/plain": [
       "         Water_(g)  Lipid_Tot_(g)  Carbohydrt_(g)\n",
       "count  8612.000000    8618.000000     8618.000000\n",
       "mean     54.163710      10.647024       21.819062\n",
       "std      30.648283      15.866353       27.239000\n",
       "min       0.000000       0.000000        0.000000\n",
       "25%      30.087500       0.992500        0.040000\n",
       "50%      63.265000       5.235000        8.945000\n",
       "75%      77.610000      13.900000       32.900000\n",
       "max     100.000000     100.000000      100.000000"
      ]
     },
     "execution_count": 5,
     "metadata": {},
     "output_type": "execute_result"
    }
   ],
   "source": [
    "df.describe()"
   ]
  },
  {
   "cell_type": "code",
   "execution_count": 5,
   "metadata": {},
   "outputs": [
    {
     "data": {
      "text/plain": [
       "51708"
      ]
     },
     "execution_count": 5,
     "metadata": {},
     "output_type": "execute_result"
    }
   ],
   "source": [
    "#Return an int representing the number of elements in this object.\n",
    "df.size"
   ]
  },
  {
   "cell_type": "code",
   "execution_count": 8,
   "metadata": {},
   "outputs": [],
   "source": [
    "import pandas_profiling\n",
    "pfr = pandas_profiling.ProfileReport(df)"
   ]
  },
  {
   "cell_type": "code",
   "execution_count": 10,
   "metadata": {},
   "outputs": [],
   "source": [
    "pfr.to_file(\"./example.html\")"
   ]
  },
  {
   "cell_type": "code",
   "execution_count": 6,
   "metadata": {},
   "outputs": [
    {
     "data": {
      "text/plain": [
       "8618"
      ]
     },
     "execution_count": 6,
     "metadata": {},
     "output_type": "execute_result"
    }
   ],
   "source": [
    "#返回行数\n",
    "len(df)"
   ]
  },
  {
   "cell_type": "code",
   "execution_count": 8,
   "metadata": {},
   "outputs": [
    {
     "data": {
      "text/plain": [
       "2405"
      ]
     },
     "execution_count": 8,
     "metadata": {},
     "output_type": "execute_result"
    }
   ],
   "source": [
    "#查重.unique()\n",
    "len(df['Lipid_Tot_(g)'].unique())"
   ]
  },
  {
   "cell_type": "code",
   "execution_count": 10,
   "metadata": {},
   "outputs": [
    {
     "data": {
      "text/plain": [
       "0    False\n",
       "1     True\n",
       "2    False\n",
       "3    False\n",
       "4    False\n",
       "Name: Lipid_Tot_(g), dtype: bool"
      ]
     },
     "execution_count": 10,
     "metadata": {},
     "output_type": "execute_result"
    }
   ],
   "source": [
    "#查重  duplicated()\n",
    "df['Lipid_Tot_(g)'].head().duplicated()"
   ]
  },
  {
   "cell_type": "code",
   "execution_count": 12,
   "metadata": {},
   "outputs": [
    {
     "data": {
      "text/plain": [
       "pandas.core.series.Series"
      ]
     },
     "execution_count": 12,
     "metadata": {},
     "output_type": "execute_result"
    }
   ],
   "source": [
    "#去重   drop_duplicates()\n",
    "type(df['Lipid_Tot_(g)'].drop_duplicates())"
   ]
  },
  {
   "cell_type": "code",
   "execution_count": 15,
   "metadata": {
    "scrolled": true
   },
   "outputs": [
    {
     "data": {
      "text/html": [
       "<div>\n",
       "<style scoped>\n",
       "    .dataframe tbody tr th:only-of-type {\n",
       "        vertical-align: middle;\n",
       "    }\n",
       "\n",
       "    .dataframe tbody tr th {\n",
       "        vertical-align: top;\n",
       "    }\n",
       "\n",
       "    .dataframe thead th {\n",
       "        text-align: right;\n",
       "    }\n",
       "</style>\n",
       "<table border=\"1\" class=\"dataframe\">\n",
       "  <thead>\n",
       "    <tr style=\"text-align: right;\">\n",
       "      <th></th>\n",
       "      <th>Water_(g)</th>\n",
       "      <th>Lipid_Tot_(g)</th>\n",
       "      <th>Carbohydrt_(g)</th>\n",
       "      <th>A</th>\n",
       "      <th>0</th>\n",
       "      <th>1</th>\n",
       "    </tr>\n",
       "  </thead>\n",
       "  <tbody>\n",
       "    <tr>\n",
       "      <th>0</th>\n",
       "      <td>15.87</td>\n",
       "      <td>81.11</td>\n",
       "      <td>0.06</td>\n",
       "      <td>A</td>\n",
       "      <td>BUTTER</td>\n",
       "      <td>['WITH', 'SALT']</td>\n",
       "    </tr>\n",
       "    <tr>\n",
       "      <th>2</th>\n",
       "      <td>0.24</td>\n",
       "      <td>99.48</td>\n",
       "      <td>0.00</td>\n",
       "      <td>A</td>\n",
       "      <td>BUTTER</td>\n",
       "      <td>['OIL', 'ANHYDROUS']</td>\n",
       "    </tr>\n",
       "    <tr>\n",
       "      <th>3</th>\n",
       "      <td>42.41</td>\n",
       "      <td>28.74</td>\n",
       "      <td>2.34</td>\n",
       "      <td>A</td>\n",
       "      <td>CHEESE</td>\n",
       "      <td>['BLUE']</td>\n",
       "    </tr>\n",
       "    <tr>\n",
       "      <th>4</th>\n",
       "      <td>41.11</td>\n",
       "      <td>29.68</td>\n",
       "      <td>2.79</td>\n",
       "      <td>A</td>\n",
       "      <td>CHEESE</td>\n",
       "      <td>['BRICK']</td>\n",
       "    </tr>\n",
       "    <tr>\n",
       "      <th>5</th>\n",
       "      <td>48.42</td>\n",
       "      <td>27.68</td>\n",
       "      <td>0.45</td>\n",
       "      <td>A</td>\n",
       "      <td>CHEESE</td>\n",
       "      <td>['BRIE']</td>\n",
       "    </tr>\n",
       "  </tbody>\n",
       "</table>\n",
       "</div>"
      ],
      "text/plain": [
       "   Water_(g)  Lipid_Tot_(g)  Carbohydrt_(g)  A       0                     1\n",
       "0      15.87          81.11            0.06  A  BUTTER      ['WITH', 'SALT']\n",
       "2       0.24          99.48            0.00  A  BUTTER  ['OIL', 'ANHYDROUS']\n",
       "3      42.41          28.74            2.34  A  CHEESE              ['BLUE']\n",
       "4      41.11          29.68            2.79  A  CHEESE             ['BRICK']\n",
       "5      48.42          27.68            0.45  A  CHEESE              ['BRIE']"
      ]
     },
     "execution_count": 15,
     "metadata": {},
     "output_type": "execute_result"
    }
   ],
   "source": [
    "df.drop_duplicates(['Lipid_Tot_(g)']).head()"
   ]
  },
  {
   "cell_type": "code",
   "execution_count": null,
   "metadata": {},
   "outputs": [],
   "source": [
    "#保留一个\n",
    "df.drop_duplicates(['Lipid_Tot_(g)'],keep='last')"
   ]
  }
 ],
 "metadata": {
  "kernelspec": {
   "display_name": "Python 3",
   "language": "python",
   "name": "python3"
  },
  "language_info": {
   "codemirror_mode": {
    "name": "ipython",
    "version": 3
   },
   "file_extension": ".py",
   "mimetype": "text/x-python",
   "name": "python",
   "nbconvert_exporter": "python",
   "pygments_lexer": "ipython3",
   "version": "3.7.1"
  }
 },
 "nbformat": 4,
 "nbformat_minor": 2
}
