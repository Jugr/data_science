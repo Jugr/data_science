{
 "cells": [
  {
   "cell_type": "code",
   "execution_count": 1,
   "metadata": {},
   "outputs": [],
   "source": [
    "import pandas as pd\n",
    "import numpy as np\n",
    "from pandas import Series,DataFrame"
   ]
  },
  {
   "cell_type": "code",
   "execution_count": 3,
   "metadata": {},
   "outputs": [
    {
     "data": {
      "text/plain": [
       "datetime.datetime(2009, 10, 20, 0, 0)"
      ]
     },
     "execution_count": 3,
     "metadata": {},
     "output_type": "execute_result"
    }
   ],
   "source": [
    "from datetime import datetime\n",
    "t1 = datetime(2009,10,20)\n",
    "t1"
   ]
  },
  {
   "cell_type": "code",
   "execution_count": 10,
   "metadata": {},
   "outputs": [
    {
     "data": {
      "text/plain": [
       "[datetime.datetime(2009, 1, 20, 0, 0),\n",
       " datetime.datetime(2009, 2, 20, 0, 0),\n",
       " datetime.datetime(2009, 3, 20, 0, 0),\n",
       " datetime.datetime(2009, 4, 20, 0, 0),\n",
       " datetime.datetime(2009, 5, 20, 0, 0)]"
      ]
     },
     "execution_count": 10,
     "metadata": {},
     "output_type": "execute_result"
    }
   ],
   "source": [
    "date_list = [\n",
    "    datetime(2009,1,20),\n",
    "    datetime(2009,2,20),\n",
    "    datetime(2009,3,20),\n",
    "    datetime(2009,4,20),\n",
    "    datetime(2009,5,20)\n",
    "]\n",
    "date_list"
   ]
  },
  {
   "cell_type": "code",
   "execution_count": 11,
   "metadata": {},
   "outputs": [
    {
     "data": {
      "text/plain": [
       "2009-01-20    0.868371\n",
       "2009-02-20    0.486859\n",
       "2009-03-20    0.623944\n",
       "2009-04-20    0.762299\n",
       "2009-05-20    0.262829\n",
       "dtype: float64"
      ]
     },
     "execution_count": 11,
     "metadata": {},
     "output_type": "execute_result"
    }
   ],
   "source": [
    "s1 = Series(np.random.rand(5),index=date_list)\n",
    "s1"
   ]
  },
  {
   "cell_type": "code",
   "execution_count": 12,
   "metadata": {},
   "outputs": [
    {
     "data": {
      "text/plain": [
       "array([0.86837052, 0.48685941, 0.62394386, 0.76229878, 0.26282871])"
      ]
     },
     "execution_count": 12,
     "metadata": {},
     "output_type": "execute_result"
    }
   ],
   "source": [
    "s1.values"
   ]
  },
  {
   "cell_type": "code",
   "execution_count": 13,
   "metadata": {},
   "outputs": [
    {
     "data": {
      "text/plain": [
       "DatetimeIndex(['2009-01-20', '2009-02-20', '2009-03-20', '2009-04-20',\n",
       "               '2009-05-20'],\n",
       "              dtype='datetime64[ns]', freq=None)"
      ]
     },
     "execution_count": 13,
     "metadata": {},
     "output_type": "execute_result"
    }
   ],
   "source": [
    "s1.index"
   ]
  },
  {
   "cell_type": "code",
   "execution_count": 14,
   "metadata": {},
   "outputs": [
    {
     "data": {
      "text/plain": [
       "0.486859406785784"
      ]
     },
     "execution_count": 14,
     "metadata": {},
     "output_type": "execute_result"
    }
   ],
   "source": [
    "s1[1]"
   ]
  },
  {
   "cell_type": "code",
   "execution_count": 15,
   "metadata": {},
   "outputs": [
    {
     "data": {
      "text/plain": [
       "0.486859406785784"
      ]
     },
     "execution_count": 15,
     "metadata": {},
     "output_type": "execute_result"
    }
   ],
   "source": [
    "s1[datetime(2009,2,20)]"
   ]
  },
  {
   "cell_type": "code",
   "execution_count": 16,
   "metadata": {},
   "outputs": [
    {
     "data": {
      "text/plain": [
       "0.486859406785784"
      ]
     },
     "execution_count": 16,
     "metadata": {},
     "output_type": "execute_result"
    }
   ],
   "source": [
    "s1['2009-2-20']"
   ]
  },
  {
   "cell_type": "code",
   "execution_count": 19,
   "metadata": {},
   "outputs": [
    {
     "data": {
      "text/plain": [
       "0.486859406785784"
      ]
     },
     "execution_count": 19,
     "metadata": {},
     "output_type": "execute_result"
    }
   ],
   "source": [
    "s1['20090220']"
   ]
  },
  {
   "cell_type": "code",
   "execution_count": 21,
   "metadata": {},
   "outputs": [
    {
     "data": {
      "text/plain": [
       "2009-02-20    0.486859\n",
       "dtype: float64"
      ]
     },
     "execution_count": 21,
     "metadata": {},
     "output_type": "execute_result"
    }
   ],
   "source": [
    "s1['2009-02']"
   ]
  },
  {
   "cell_type": "code",
   "execution_count": 22,
   "metadata": {},
   "outputs": [
    {
     "data": {
      "text/plain": [
       "2009-01-20    0.868371\n",
       "2009-02-20    0.486859\n",
       "2009-03-20    0.623944\n",
       "2009-04-20    0.762299\n",
       "2009-05-20    0.262829\n",
       "dtype: float64"
      ]
     },
     "execution_count": 22,
     "metadata": {},
     "output_type": "execute_result"
    }
   ],
   "source": [
    "s1['2009']"
   ]
  },
  {
   "cell_type": "code",
   "execution_count": 26,
   "metadata": {},
   "outputs": [
    {
     "data": {
      "text/plain": [
       "DatetimeIndex(['2016-01-04', '2016-01-11', '2016-01-18', '2016-01-25',\n",
       "               '2016-02-01'],\n",
       "              dtype='datetime64[ns]', freq='W-MON')"
      ]
     },
     "execution_count": 26,
     "metadata": {},
     "output_type": "execute_result"
    }
   ],
   "source": [
    "#freq='w-Mon' :按周算 ，周一为一周的起始  默认起始是周日   freq='5H' ：5小时为间隔\n",
    "date_list_new = pd.date_range(start='2016-1-1',end='2016-2-1',freq='w-Mon')\n",
    "date_list_new"
   ]
  },
  {
   "cell_type": "code",
   "execution_count": 27,
   "metadata": {},
   "outputs": [],
   "source": [
    "#采样与画图"
   ]
  },
  {
   "cell_type": "code",
   "execution_count": 28,
   "metadata": {},
   "outputs": [
    {
     "data": {
      "text/plain": [
       "DatetimeIndex(['2016-01-01', '2016-01-02', '2016-01-03', '2016-01-04',\n",
       "               '2016-01-05', '2016-01-06', '2016-01-07', '2016-01-08',\n",
       "               '2016-01-09', '2016-01-10',\n",
       "               ...\n",
       "               '2016-12-22', '2016-12-23', '2016-12-24', '2016-12-25',\n",
       "               '2016-12-26', '2016-12-27', '2016-12-28', '2016-12-29',\n",
       "               '2016-12-30', '2016-12-31'],\n",
       "              dtype='datetime64[ns]', length=366, freq='D')"
      ]
     },
     "execution_count": 28,
     "metadata": {},
     "output_type": "execute_result"
    }
   ],
   "source": [
    "t_range = pd.date_range('2016-1-1','2016-12-31')\n",
    "t_range"
   ]
  },
  {
   "cell_type": "code",
   "execution_count": 29,
   "metadata": {},
   "outputs": [
    {
     "data": {
      "text/plain": [
       "2016-01-01   -1.431500\n",
       "2016-01-02   -0.011661\n",
       "2016-01-03    0.296393\n",
       "2016-01-04   -0.256168\n",
       "2016-01-05   -0.400877\n",
       "2016-01-06    0.293069\n",
       "2016-01-07    0.199197\n",
       "2016-01-08    1.116806\n",
       "2016-01-09    0.124776\n",
       "2016-01-10   -0.644129\n",
       "2016-01-11    0.581150\n",
       "2016-01-12    0.049364\n",
       "2016-01-13    1.608260\n",
       "2016-01-14   -0.007015\n",
       "2016-01-15    0.338971\n",
       "2016-01-16   -1.075089\n",
       "2016-01-17   -0.889019\n",
       "2016-01-18   -2.124658\n",
       "2016-01-19    0.780718\n",
       "2016-01-20   -0.360069\n",
       "2016-01-21    0.426770\n",
       "2016-01-22    0.200515\n",
       "2016-01-23    1.180847\n",
       "2016-01-24    1.698721\n",
       "2016-01-25    0.331145\n",
       "2016-01-26    0.111386\n",
       "2016-01-27    0.674757\n",
       "2016-01-28    1.283613\n",
       "2016-01-29    0.155687\n",
       "2016-01-30    0.338224\n",
       "                ...   \n",
       "2016-12-02    1.143406\n",
       "2016-12-03    0.731681\n",
       "2016-12-04   -0.498061\n",
       "2016-12-05    0.020909\n",
       "2016-12-06    0.335552\n",
       "2016-12-07    0.851085\n",
       "2016-12-08    0.597587\n",
       "2016-12-09    0.054826\n",
       "2016-12-10   -0.125401\n",
       "2016-12-11    0.190386\n",
       "2016-12-12    0.671486\n",
       "2016-12-13    1.044144\n",
       "2016-12-14   -0.553182\n",
       "2016-12-15    0.644364\n",
       "2016-12-16   -0.049978\n",
       "2016-12-17   -1.658300\n",
       "2016-12-18   -0.845458\n",
       "2016-12-19    1.768465\n",
       "2016-12-20    0.988111\n",
       "2016-12-21   -0.809933\n",
       "2016-12-22   -0.371512\n",
       "2016-12-23   -0.220469\n",
       "2016-12-24   -0.467148\n",
       "2016-12-25    1.323121\n",
       "2016-12-26    0.227252\n",
       "2016-12-27    0.752732\n",
       "2016-12-28    1.151111\n",
       "2016-12-29    0.800775\n",
       "2016-12-30   -0.074662\n",
       "2016-12-31   -1.431282\n",
       "Freq: D, Length: 366, dtype: float64"
      ]
     },
     "execution_count": 29,
     "metadata": {},
     "output_type": "execute_result"
    }
   ],
   "source": [
    "s1 = Series(np.random.randn(len(t_range)),\\\n",
    "           index=t_range)\n",
    "s1"
   ]
  },
  {
   "cell_type": "code",
   "execution_count": 32,
   "metadata": {},
   "outputs": [
    {
     "data": {
      "text/plain": [
       "0.12108982429098784"
      ]
     },
     "execution_count": 32,
     "metadata": {},
     "output_type": "execute_result"
    }
   ],
   "source": [
    "#取每个月的平均值 得到一年12个月的数据\n",
    "s1['2016-01'].mean()"
   ]
  },
  {
   "cell_type": "code",
   "execution_count": 34,
   "metadata": {},
   "outputs": [
    {
     "data": {
      "text/plain": [
       "2016-01-31    0.121090\n",
       "2016-02-29    0.371603\n",
       "2016-03-31   -0.011132\n",
       "2016-04-30    0.167153\n",
       "2016-05-31   -0.347385\n",
       "2016-06-30   -0.133587\n",
       "2016-07-31   -0.077444\n",
       "2016-08-31   -0.202750\n",
       "2016-09-30   -0.070321\n",
       "2016-10-31    0.013117\n",
       "2016-11-30    0.189148\n",
       "2016-12-31    0.130380\n",
       "Freq: M, dtype: float64"
      ]
     },
     "execution_count": 34,
     "metadata": {},
     "output_type": "execute_result"
    }
   ],
   "source": [
    "s1_m = s1.resample('M').mean()\n",
    "s1_m"
   ]
  },
  {
   "cell_type": "code",
   "execution_count": 35,
   "metadata": {},
   "outputs": [
    {
     "data": {
      "text/plain": [
       "2016-01-01 00:00:00   -1.431500\n",
       "2016-01-01 01:00:00   -1.431500\n",
       "2016-01-01 02:00:00   -1.431500\n",
       "2016-01-01 03:00:00   -1.431500\n",
       "2016-01-01 04:00:00   -1.431500\n",
       "2016-01-01 05:00:00   -1.431500\n",
       "2016-01-01 06:00:00   -1.431500\n",
       "2016-01-01 07:00:00   -1.431500\n",
       "2016-01-01 08:00:00   -1.431500\n",
       "2016-01-01 09:00:00   -1.431500\n",
       "2016-01-01 10:00:00   -1.431500\n",
       "2016-01-01 11:00:00   -1.431500\n",
       "2016-01-01 12:00:00   -1.431500\n",
       "2016-01-01 13:00:00   -1.431500\n",
       "2016-01-01 14:00:00   -1.431500\n",
       "2016-01-01 15:00:00   -1.431500\n",
       "2016-01-01 16:00:00   -1.431500\n",
       "2016-01-01 17:00:00   -1.431500\n",
       "2016-01-01 18:00:00   -1.431500\n",
       "2016-01-01 19:00:00   -1.431500\n",
       "2016-01-01 20:00:00   -1.431500\n",
       "2016-01-01 21:00:00   -1.431500\n",
       "2016-01-01 22:00:00   -1.431500\n",
       "2016-01-01 23:00:00   -1.431500\n",
       "2016-01-02 00:00:00   -0.011661\n",
       "2016-01-02 01:00:00   -0.011661\n",
       "2016-01-02 02:00:00   -0.011661\n",
       "2016-01-02 03:00:00   -0.011661\n",
       "2016-01-02 04:00:00   -0.011661\n",
       "2016-01-02 05:00:00   -0.011661\n",
       "                         ...   \n",
       "2016-12-29 19:00:00    0.800775\n",
       "2016-12-29 20:00:00    0.800775\n",
       "2016-12-29 21:00:00    0.800775\n",
       "2016-12-29 22:00:00    0.800775\n",
       "2016-12-29 23:00:00    0.800775\n",
       "2016-12-30 00:00:00   -0.074662\n",
       "2016-12-30 01:00:00   -0.074662\n",
       "2016-12-30 02:00:00   -0.074662\n",
       "2016-12-30 03:00:00   -0.074662\n",
       "2016-12-30 04:00:00   -0.074662\n",
       "2016-12-30 05:00:00   -0.074662\n",
       "2016-12-30 06:00:00   -0.074662\n",
       "2016-12-30 07:00:00   -0.074662\n",
       "2016-12-30 08:00:00   -0.074662\n",
       "2016-12-30 09:00:00   -0.074662\n",
       "2016-12-30 10:00:00   -0.074662\n",
       "2016-12-30 11:00:00   -0.074662\n",
       "2016-12-30 12:00:00   -0.074662\n",
       "2016-12-30 13:00:00   -0.074662\n",
       "2016-12-30 14:00:00   -0.074662\n",
       "2016-12-30 15:00:00   -0.074662\n",
       "2016-12-30 16:00:00   -0.074662\n",
       "2016-12-30 17:00:00   -0.074662\n",
       "2016-12-30 18:00:00   -0.074662\n",
       "2016-12-30 19:00:00   -0.074662\n",
       "2016-12-30 20:00:00   -0.074662\n",
       "2016-12-30 21:00:00   -0.074662\n",
       "2016-12-30 22:00:00   -0.074662\n",
       "2016-12-30 23:00:00   -0.074662\n",
       "2016-12-31 00:00:00   -1.431282\n",
       "Freq: H, Length: 8761, dtype: float64"
      ]
     },
     "execution_count": 35,
     "metadata": {},
     "output_type": "execute_result"
    }
   ],
   "source": [
    "#填充数据\n",
    "s1.resample('H').ffill()#往前填充\n",
    "# s1.resample('H').bfill()#往后填充"
   ]
  },
  {
   "cell_type": "code",
   "execution_count": 36,
   "metadata": {},
   "outputs": [
    {
     "data": {
      "text/plain": [
       "DatetimeIndex(['2016-01-01 00:00:00', '2016-01-01 01:00:00',\n",
       "               '2016-01-01 02:00:00', '2016-01-01 03:00:00',\n",
       "               '2016-01-01 04:00:00', '2016-01-01 05:00:00',\n",
       "               '2016-01-01 06:00:00', '2016-01-01 07:00:00',\n",
       "               '2016-01-01 08:00:00', '2016-01-01 09:00:00',\n",
       "               ...\n",
       "               '2016-12-30 15:00:00', '2016-12-30 16:00:00',\n",
       "               '2016-12-30 17:00:00', '2016-12-30 18:00:00',\n",
       "               '2016-12-30 19:00:00', '2016-12-30 20:00:00',\n",
       "               '2016-12-30 21:00:00', '2016-12-30 22:00:00',\n",
       "               '2016-12-30 23:00:00', '2016-12-31 00:00:00'],\n",
       "              dtype='datetime64[ns]', length=8761, freq='H')"
      ]
     },
     "execution_count": 36,
     "metadata": {},
     "output_type": "execute_result"
    }
   ],
   "source": [
    "t_range = pd.date_range('2016-1-1','2016-12-31',freq='H')\n",
    "t_range"
   ]
  },
  {
   "cell_type": "code",
   "execution_count": 38,
   "metadata": {},
   "outputs": [
    {
     "data": {
      "text/html": [
       "<div>\n",
       "<style scoped>\n",
       "    .dataframe tbody tr th:only-of-type {\n",
       "        vertical-align: middle;\n",
       "    }\n",
       "\n",
       "    .dataframe tbody tr th {\n",
       "        vertical-align: top;\n",
       "    }\n",
       "\n",
       "    .dataframe thead th {\n",
       "        text-align: right;\n",
       "    }\n",
       "</style>\n",
       "<table border=\"1\" class=\"dataframe\">\n",
       "  <thead>\n",
       "    <tr style=\"text-align: right;\">\n",
       "      <th></th>\n",
       "    </tr>\n",
       "  </thead>\n",
       "  <tbody>\n",
       "    <tr>\n",
       "      <th>2016-01-01 00:00:00</th>\n",
       "    </tr>\n",
       "    <tr>\n",
       "      <th>2016-01-01 01:00:00</th>\n",
       "    </tr>\n",
       "    <tr>\n",
       "      <th>2016-01-01 02:00:00</th>\n",
       "    </tr>\n",
       "    <tr>\n",
       "      <th>2016-01-01 03:00:00</th>\n",
       "    </tr>\n",
       "    <tr>\n",
       "      <th>2016-01-01 04:00:00</th>\n",
       "    </tr>\n",
       "  </tbody>\n",
       "</table>\n",
       "</div>"
      ],
      "text/plain": [
       "Empty DataFrame\n",
       "Columns: []\n",
       "Index: [2016-01-01 00:00:00, 2016-01-01 01:00:00, 2016-01-01 02:00:00, 2016-01-01 03:00:00, 2016-01-01 04:00:00]"
      ]
     },
     "execution_count": 38,
     "metadata": {},
     "output_type": "execute_result"
    }
   ],
   "source": [
    "stock_df = DataFrame(index=t_range)\n",
    "stock_df.head()"
   ]
  },
  {
   "cell_type": "code",
   "execution_count": 39,
   "metadata": {},
   "outputs": [],
   "source": [
    "stock_df['BABA'] = np.random.randint(80,160,size=len(t_range))"
   ]
  },
  {
   "cell_type": "code",
   "execution_count": 40,
   "metadata": {},
   "outputs": [
    {
     "data": {
      "text/html": [
       "<div>\n",
       "<style scoped>\n",
       "    .dataframe tbody tr th:only-of-type {\n",
       "        vertical-align: middle;\n",
       "    }\n",
       "\n",
       "    .dataframe tbody tr th {\n",
       "        vertical-align: top;\n",
       "    }\n",
       "\n",
       "    .dataframe thead th {\n",
       "        text-align: right;\n",
       "    }\n",
       "</style>\n",
       "<table border=\"1\" class=\"dataframe\">\n",
       "  <thead>\n",
       "    <tr style=\"text-align: right;\">\n",
       "      <th></th>\n",
       "      <th>BABA</th>\n",
       "    </tr>\n",
       "  </thead>\n",
       "  <tbody>\n",
       "    <tr>\n",
       "      <th>2016-01-01 00:00:00</th>\n",
       "      <td>129</td>\n",
       "    </tr>\n",
       "    <tr>\n",
       "      <th>2016-01-01 01:00:00</th>\n",
       "      <td>107</td>\n",
       "    </tr>\n",
       "    <tr>\n",
       "      <th>2016-01-01 02:00:00</th>\n",
       "      <td>153</td>\n",
       "    </tr>\n",
       "    <tr>\n",
       "      <th>2016-01-01 03:00:00</th>\n",
       "      <td>129</td>\n",
       "    </tr>\n",
       "    <tr>\n",
       "      <th>2016-01-01 04:00:00</th>\n",
       "      <td>96</td>\n",
       "    </tr>\n",
       "  </tbody>\n",
       "</table>\n",
       "</div>"
      ],
      "text/plain": [
       "                     BABA\n",
       "2016-01-01 00:00:00   129\n",
       "2016-01-01 01:00:00   107\n",
       "2016-01-01 02:00:00   153\n",
       "2016-01-01 03:00:00   129\n",
       "2016-01-01 04:00:00    96"
      ]
     },
     "execution_count": 40,
     "metadata": {},
     "output_type": "execute_result"
    }
   ],
   "source": [
    "stock_df.head()"
   ]
  },
  {
   "cell_type": "code",
   "execution_count": 41,
   "metadata": {},
   "outputs": [],
   "source": [
    "stock_df['TX'] = np.random.randint(30,150,size=len(t_range))"
   ]
  },
  {
   "cell_type": "code",
   "execution_count": 42,
   "metadata": {},
   "outputs": [
    {
     "data": {
      "text/html": [
       "<div>\n",
       "<style scoped>\n",
       "    .dataframe tbody tr th:only-of-type {\n",
       "        vertical-align: middle;\n",
       "    }\n",
       "\n",
       "    .dataframe tbody tr th {\n",
       "        vertical-align: top;\n",
       "    }\n",
       "\n",
       "    .dataframe thead th {\n",
       "        text-align: right;\n",
       "    }\n",
       "</style>\n",
       "<table border=\"1\" class=\"dataframe\">\n",
       "  <thead>\n",
       "    <tr style=\"text-align: right;\">\n",
       "      <th></th>\n",
       "      <th>BABA</th>\n",
       "      <th>TX</th>\n",
       "    </tr>\n",
       "  </thead>\n",
       "  <tbody>\n",
       "    <tr>\n",
       "      <th>2016-01-01 00:00:00</th>\n",
       "      <td>129</td>\n",
       "      <td>138</td>\n",
       "    </tr>\n",
       "    <tr>\n",
       "      <th>2016-01-01 01:00:00</th>\n",
       "      <td>107</td>\n",
       "      <td>77</td>\n",
       "    </tr>\n",
       "    <tr>\n",
       "      <th>2016-01-01 02:00:00</th>\n",
       "      <td>153</td>\n",
       "      <td>91</td>\n",
       "    </tr>\n",
       "    <tr>\n",
       "      <th>2016-01-01 03:00:00</th>\n",
       "      <td>129</td>\n",
       "      <td>94</td>\n",
       "    </tr>\n",
       "    <tr>\n",
       "      <th>2016-01-01 04:00:00</th>\n",
       "      <td>96</td>\n",
       "      <td>82</td>\n",
       "    </tr>\n",
       "  </tbody>\n",
       "</table>\n",
       "</div>"
      ],
      "text/plain": [
       "                     BABA   TX\n",
       "2016-01-01 00:00:00   129  138\n",
       "2016-01-01 01:00:00   107   77\n",
       "2016-01-01 02:00:00   153   91\n",
       "2016-01-01 03:00:00   129   94\n",
       "2016-01-01 04:00:00    96   82"
      ]
     },
     "execution_count": 42,
     "metadata": {},
     "output_type": "execute_result"
    }
   ],
   "source": [
    "stock_df.head()"
   ]
  },
  {
   "cell_type": "code",
   "execution_count": 45,
   "metadata": {},
   "outputs": [
    {
     "data": {
      "image/png": "[encoded data removed]",
      "text/plain": [
       "<Figure size 432x288 with 1 Axes>"
      ]
     },
     "metadata": {
      "needs_background": "light"
     },
     "output_type": "display_data"
    }
   ],
   "source": [
    "stock_df.plot()\n",
    "import matplotlib.pyplot as plt\n",
    "plt.show()"
   ]
  },
  {
   "cell_type": "code",
   "execution_count": 46,
   "metadata": {},
   "outputs": [],
   "source": [
    "weekly_df = DataFrame()"
   ]
  },
  {
   "cell_type": "code",
   "execution_count": 47,
   "metadata": {},
   "outputs": [],
   "source": [
    "weekly_df['BABA'] = stock_df['BABA'].resample('W').mean()"
   ]
  },
  {
   "cell_type": "code",
   "execution_count": 48,
   "metadata": {},
   "outputs": [
    {
     "data": {
      "text/html": [
       "<div>\n",
       "<style scoped>\n",
       "    .dataframe tbody tr th:only-of-type {\n",
       "        vertical-align: middle;\n",
       "    }\n",
       "\n",
       "    .dataframe tbody tr th {\n",
       "        vertical-align: top;\n",
       "    }\n",
       "\n",
       "    .dataframe thead th {\n",
       "        text-align: right;\n",
       "    }\n",
       "</style>\n",
       "<table border=\"1\" class=\"dataframe\">\n",
       "  <thead>\n",
       "    <tr style=\"text-align: right;\">\n",
       "      <th></th>\n",
       "      <th>BABA</th>\n",
       "    </tr>\n",
       "  </thead>\n",
       "  <tbody>\n",
       "    <tr>\n",
       "      <th>2016-01-03</th>\n",
       "      <td>114.638889</td>\n",
       "    </tr>\n",
       "    <tr>\n",
       "      <th>2016-01-10</th>\n",
       "      <td>119.684524</td>\n",
       "    </tr>\n",
       "    <tr>\n",
       "      <th>2016-01-17</th>\n",
       "      <td>117.696429</td>\n",
       "    </tr>\n",
       "    <tr>\n",
       "      <th>2016-01-24</th>\n",
       "      <td>117.869048</td>\n",
       "    </tr>\n",
       "    <tr>\n",
       "      <th>2016-01-31</th>\n",
       "      <td>117.791667</td>\n",
       "    </tr>\n",
       "  </tbody>\n",
       "</table>\n",
       "</div>"
      ],
      "text/plain": [
       "                  BABA\n",
       "2016-01-03  114.638889\n",
       "2016-01-10  119.684524\n",
       "2016-01-17  117.696429\n",
       "2016-01-24  117.869048\n",
       "2016-01-31  117.791667"
      ]
     },
     "execution_count": 48,
     "metadata": {},
     "output_type": "execute_result"
    }
   ],
   "source": [
    "weekly_df.head()"
   ]
  },
  {
   "cell_type": "code",
   "execution_count": 50,
   "metadata": {},
   "outputs": [
    {
     "data": {
      "image/png": "[encoded data removed]",
      "text/plain": [
       "<Figure size 432x288 with 1 Axes>"
      ]
     },
     "metadata": {
      "needs_background": "light"
     },
     "output_type": "display_data"
    }
   ],
   "source": [
    "weekly_df.plot()\n",
    "plt.show()"
   ]
  },
  {
   "cell_type": "code",
   "execution_count": null,
   "metadata": {},
   "outputs": [],
   "source": []
  }
 ],
 "metadata": {
  "kernelspec": {
   "display_name": "Python 3",
   "language": "python",
   "name": "python3"
  },
  "language_info": {
   "codemirror_mode": {
    "name": "ipython",
    "version": 3
   },
   "file_extension": ".py",
   "mimetype": "text/x-python",
   "name": "python",
   "nbconvert_exporter": "python",
   "pygments_lexer": "ipython3",
   "version": "3.7.1"
  }
 },
 "nbformat": 4,
 "nbformat_minor": 2
}
